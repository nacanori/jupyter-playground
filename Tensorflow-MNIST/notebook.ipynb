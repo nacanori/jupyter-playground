{
 "cells": [
  {
   "cell_type": "code",
   "execution_count": 21,
   "metadata": {},
   "outputs": [
    {
     "name": "stdout",
     "output_type": "stream",
     "text": [
      "1.5.0\n"
     ]
    }
   ],
   "source": [
    "import numpy as np\n",
    "import tensorflow as tf\n",
    "print(tf.__version__)"
   ]
  },
  {
   "cell_type": "markdown",
   "metadata": {},
   "source": [
    "## データの読み込み"
   ]
  },
  {
   "cell_type": "code",
   "execution_count": 2,
   "metadata": {},
   "outputs": [
    {
     "name": "stdout",
     "output_type": "stream",
     "text": [
      "Successfully downloaded train-images-idx3-ubyte.gz 9912422 bytes.\n",
      "Extracting MNIST_data/train-images-idx3-ubyte.gz\n",
      "Successfully downloaded train-labels-idx1-ubyte.gz 28881 bytes.\n",
      "Extracting MNIST_data/train-labels-idx1-ubyte.gz\n",
      "Successfully downloaded t10k-images-idx3-ubyte.gz 1648877 bytes.\n",
      "Extracting MNIST_data/t10k-images-idx3-ubyte.gz\n",
      "Successfully downloaded t10k-labels-idx1-ubyte.gz 4542 bytes.\n",
      "Extracting MNIST_data/t10k-labels-idx1-ubyte.gz\n"
     ]
    }
   ],
   "source": [
    "# MNIST データセットを読み込む\n",
    "from tensorflow.examples.tutorials.mnist import input_data\n",
    "mnist = input_data.read_data_sets(\"MNIST_data/\", one_hot=True)\n"
   ]
  },
  {
   "cell_type": "markdown",
   "metadata": {},
   "source": [
    "## Softmax 回帰によるモデルを作成"
   ]
  },
  {
   "cell_type": "markdown",
   "metadata": {},
   "source": [
    "softmax(多項ロジスティック)関数は、多変量のロジスティック回帰を利用した多値分類のアルゴリズム。\n",
    "\n",
    "\n",
    "<img src=\"./img/softmax.png\" style=\"height: 40px\">\n",
    "\n",
    "\n",
    "Softmax 回帰では、x の重み合計を計算し、バイアスを加え、そして softmax を適用する。\n",
    "以下のようなイメージ。\n",
    "\n",
    "* y が目的変数 (0-9の数字)\n",
    "* x が説明変数 (256 階調のグレースケール、各ピクセルの濃淡を 0.0-1.0 で表したもの)\n",
    "* W が重み\n",
    "* b がバイアスの行列\n",
    "\n",
    "<img src=\"./img/softmax1.png\" style=\"height: 130px\">\n",
    "\n",
    "式で表すと、\n",
    "\n",
    "<img src=\"./img/softmax2.png\" style=\"height: 100px\">\n",
    "\n",
    "\n",
    "今回は、最適な重みとバイアスを推定するための誤差関数（損失関数）として、交差エントロピー (cross entropy) と呼ばれる指標を用います。この交差エントロピーが最も小さくなるように、TensorFlow に `GradientDescentOptimizer` として実装されている、勾配降下法 ( `Gradient descent` ) を用いて学習を進めます。"
   ]
  },
  {
   "cell_type": "code",
   "execution_count": 19,
   "metadata": {},
   "outputs": [],
   "source": [
    "# 入力データ格納用の 784px 分のプレースホルダを作成\n",
    "x = tf.placeholder(tf.float32, [None, 784])\n",
    "\n",
    "# 重み (784 ✕ 10 の行列) の Variable を定義\n",
    "W = tf.Variable(tf.zeros([784, 10]))\n",
    "\n",
    "# バイアス (長さ 10 の行列) の Variable を定義\n",
    "b = tf.Variable(tf.zeros([10]))\n",
    "\n",
    "# ソフトマックス回帰による予測式を定義\n",
    "y = tf.nn.softmax(tf.matmul(x, W) + b)\n",
    "\n",
    "# 出力データ (予測値) 格納用のプレースホルダ\n",
    "y_ = tf.placeholder(tf.float32, [None, 10])\n",
    "\n",
    "# 交差エントロピーが最も小さくなるように、学習を行う式を定義\n",
    "cross_entropy = tf.reduce_mean(-tf.reduce_sum(y_ * tf.log(y), reduction_indices=[1]))\n",
    "train_step = tf.train.GradientDescentOptimizer(0.5).minimize(cross_entropy)\n",
    "\n",
    "# 初期化\n",
    "tf.global_variables_initializer()\n",
    "sess = tf.Session()\n",
    "sess.run(tf.global_variables_initializer())\n",
    "        \n",
    "# 学習を 1000 回繰り返す\n",
    "for i in range(1000):\n",
    "    # 訓練用データから 100 件取得\n",
    "    batch_xs, batch_ys = mnist.train.next_batch(100)\n",
    "    # train_spep を実行\n",
    "    sess.run(train_step, feed_dict={x: batch_xs, y_: batch_ys})\n",
    "\n",
    "\n"
   ]
  },
  {
   "cell_type": "markdown",
   "metadata": {},
   "source": [
    "## モデルの評価"
   ]
  },
  {
   "cell_type": "code",
   "execution_count": 20,
   "metadata": {},
   "outputs": [
    {
     "name": "stdout",
     "output_type": "stream",
     "text": [
      "0.9157\n"
     ]
    }
   ],
   "source": [
    "# 実際の値と予測された値が同じであるか確認\n",
    "correct_prediction = tf.equal(tf.argmax(y, 1), tf.argmax(y_, 1))\n",
    "\n",
    "# 平均値を求め、予測精度を求める\n",
    "accuracy = tf.reduce_mean(tf.cast(correct_prediction, tf.float32))\n",
    "\n",
    "# x にテストデータ、 y_ に実際の値をあてはめ、上記で作成した式を実行\n",
    "\n",
    "print(sess.run(accuracy, feed_dict={x: mnist.test.images, y_: mnist.test.labels}))\n"
   ]
  }
 ],
 "metadata": {
  "kernelspec": {
   "display_name": "Python 3",
   "language": "python",
   "name": "python3"
  },
  "language_info": {
   "codemirror_mode": {
    "name": "ipython",
    "version": 3
   },
   "file_extension": ".py",
   "mimetype": "text/x-python",
   "name": "python",
   "nbconvert_exporter": "python",
   "pygments_lexer": "ipython3",
   "version": "3.6.4"
  }
 },
 "nbformat": 4,
 "nbformat_minor": 2
}
